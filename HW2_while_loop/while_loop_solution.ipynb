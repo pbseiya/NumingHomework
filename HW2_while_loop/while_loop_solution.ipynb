{
 "cells": [
  {
   "cell_type": "markdown",
   "metadata": {},
   "source": [
    "# Exercise 1: Find prime number from 0 to input variable\n",
    "\n",
    "Prompt:\n",
    "\n",
    "Write a Python program that:\n",
    "\n",
    "Prompts the user to enter a upper limit number (positive integer).\n",
    "Uses a while loop to find prime number between 0 to input number."
   ]
  },
  {
   "cell_type": "code",
   "execution_count": null,
   "metadata": {},
   "outputs": [],
   "source": [
    "def is_prime(num):\n",
    "  \"\"\"\n",
    "  This function checks if a number is prime.\n",
    "\n",
    "  Args:\n",
    "      num: The number to check.\n",
    "\n",
    "  Returns:\n",
    "      True if the number is prime, False otherwise.\n",
    "  \"\"\"\n",
    "  if num <= 1:\n",
    "    return False\n",
    "  if num <= 3:\n",
    "    return True\n",
    "  if num % 2 == 0 or num % 3 == 0:\n",
    "    return False\n",
    "\n",
    "  i = 5\n",
    "  while i * i <= num:\n",
    "    if num % i == 0 or num % (i + 2) == 0:\n",
    "      return False\n",
    "    i += 6\n",
    "\n",
    "  return True\n",
    "\n",
    "upper_limit = int(input(\"Enter an upper limit (positive integer): \"))\n",
    "\n",
    "print(\"Prime numbers between 0 and\", upper_limit, \"are:\")\n",
    "i = 0\n",
    "while i <= upper_limit:\n",
    "  if is_prime(i):\n",
    "    print(i)\n",
    "  i += 1\n",
    "\n"
   ]
  },
  {
   "cell_type": "markdown",
   "metadata": {},
   "source": [
    "# Exercise 2: Guessing Game (Improved)\n",
    "\n",
    "Prompt:\n",
    "\n",
    "Write a Python program that plays a guessing game with the user. The program should:\n",
    "\n",
    "Choose a random number between 1 and 100 (inclusive).\n",
    "Prompt the user to guess the number.\n",
    "Keep prompting the user with hints (higher or lower) until they guess the correct number.\n",
    "Once the user guesses correctly, congratulate them and display the number of guesses it took.\n",
    "Improvements:\n",
    "\n",
    "Enhanced User Experience: Provide more specific hints (e.g., \"much higher\", \"a little lower\") based on the magnitude of the difference between the guess and the target number.\n",
    "Error Handling: Handle invalid user input (e.g., non-numeric characters) by prompting them to enter a valid number."
   ]
  },
  {
   "cell_type": "code",
   "execution_count": null,
   "metadata": {},
   "outputs": [],
   "source": [
    "import random\n",
    "\n",
    "def guess_the_number():\n",
    "    target_number = random.randint(1, 100)\n",
    "    num_guesses = 0\n",
    "\n",
    "    while True:\n",
    "        try:\n",
    "            guess = int(input(\"Guess a number between 1 and 100 (inclusive): \"))\n",
    "            num_guesses += 1\n",
    "\n",
    "            if guess < target_number:\n",
    "                hint = \"Your guess is too low. Try again!\"\n",
    "                if guess < target_number - 10:\n",
    "                    hint = \"Much lower. Aim higher!\"\n",
    "                    print(guess, hint)\n",
    "            elif guess > target_number:\n",
    "                hint = \"Your guess is too high. Try again!\"\n",
    "                if guess > target_number + 10:\n",
    "                    hint = \"Much higher. Aim lower!\"\n",
    "                    print(guess, hint)\n",
    "            else:\n",
    "                print(f\"Congratulations! You guessed the number in {num_guesses} tries.\")\n",
    "                break\n",
    "\n",
    "        except ValueError:\n",
    "            print(\"Invalid input. Please enter a number.\")\n",
    "\n",
    "if __name__ == \"__main__\":\n",
    "    print(\"Welcome to the Guess the Number game!\")\n",
    "    print(\"I'm thinking of a number between 1 and 100 (inclusive).\")\n",
    "    print(\"Try to guess it in as few attempts as possible.\")\n",
    "    print(\"Good luck!\")\n",
    "    print()\n",
    "    guess_the_number()\n"
   ]
  }
 ],
 "metadata": {
  "kernelspec": {
   "display_name": "python39",
   "language": "python",
   "name": "python3"
  },
  "language_info": {
   "codemirror_mode": {
    "name": "ipython",
    "version": 3
   },
   "file_extension": ".py",
   "mimetype": "text/x-python",
   "name": "python",
   "nbconvert_exporter": "python",
   "pygments_lexer": "ipython3",
   "version": "3.9.16"
  }
 },
 "nbformat": 4,
 "nbformat_minor": 2
}
