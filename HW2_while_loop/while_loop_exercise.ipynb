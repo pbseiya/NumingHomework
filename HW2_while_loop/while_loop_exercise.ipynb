{
 "cells": [
  {
   "cell_type": "markdown",
   "metadata": {},
   "source": [
    "# Exercise 1: Find prime number from 0 to input variable\n",
    "\n",
    "Prompt:\n",
    "\n",
    "Write a Python program that:\n",
    "\n",
    "Prompts the user to enter a upper limit number (positive integer).\n",
    "Uses a while loop to find prime number between 0 to input number."
   ]
  },
  {
   "cell_type": "code",
   "execution_count": null,
   "metadata": {},
   "outputs": [],
   "source": [
    "# Hint:  You can use the is_prime function from the previous exercise.\n",
    "# You can find out code for prime number function from internet.\n",
    "# Use while loop to coding.\n",
    "\n"
   ]
  },
  {
   "cell_type": "markdown",
   "metadata": {},
   "source": [
    "# Exercise 2: Guessing Game\n",
    "\n",
    "Prompt:\n",
    "\n",
    "Write a Python program that plays a guessing game with the user. The program should:\n",
    "\n",
    "Choose a random number between 1 and 100 (inclusive).\n",
    "Prompt the user to guess the number.\n",
    "Keep prompting the user with hints (higher or lower) until they guess the correct number.\n",
    "Once the user guesses correctly, congratulate them and display the number of guesses it took.\n",
    "Improvements:\n",
    "\n",
    "Enhanced User Experience: Provide more specific hints (e.g., \"much higher\", \"a little lower\") based on the magnitude of the difference between the guess and the target number.\n",
    "Error Handling: Handle invalid user input (e.g., non-numeric characters) by prompting them to enter a valid number."
   ]
  },
  {
   "cell_type": "code",
   "execution_count": null,
   "metadata": {},
   "outputs": [],
   "source": [
    "# Hint: You can use the random module to generate a random number.\n",
    "# Use while loop to keep asking the user to guess the number.\n",
    "# If the user guesses the number correctly, print a congratulatory message and exit the loop.\n",
    "# If the user guesses the number incorrectly, print a hint and continue the loop.\n",
    "# Use a try-except block to handle invalid input.\n",
    "\n",
    "import random\n",
    "\n",
    "\n"
   ]
  },
  {
   "cell_type": "code",
   "execution_count": null,
   "metadata": {},
   "outputs": [],
   "source": []
  }
 ],
 "metadata": {
  "kernelspec": {
   "display_name": "python39",
   "language": "python",
   "name": "python3"
  },
  "language_info": {
   "codemirror_mode": {
    "name": "ipython",
    "version": 3
   },
   "file_extension": ".py",
   "mimetype": "text/x-python",
   "name": "python",
   "nbconvert_exporter": "python",
   "pygments_lexer": "ipython3",
   "version": "3.9.16"
  }
 },
 "nbformat": 4,
 "nbformat_minor": 2
}
